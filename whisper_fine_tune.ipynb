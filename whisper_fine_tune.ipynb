{
  "nbformat": 4,
  "nbformat_minor": 0,
  "metadata": {
    "colab": {
      "provenance": [],
      "gpuType": "A100",
      "collapsed_sections": [
        "kwAPKPRi6IyX",
        "9GLO2gb3570M",
        "vcDoxyOx5zPi",
        "f5JtmfwHn2uf",
        "rMaFsdF4HdGS",
        "pxHT8f0L5f1q"
      ],
      "machine_shape": "hm"
    },
    "kernelspec": {
      "name": "python3",
      "display_name": "Python 3"
    },
    "language_info": {
      "name": "python"
    },
    "accelerator": "GPU"
  },
  "cells": [
    {
      "cell_type": "markdown",
      "source": [
        "# Basic setup\n",
        "* connecting to drive\n",
        "* Checking datset"
      ],
      "metadata": {
        "id": "tta6iZ6N6jMj"
      }
    },
    {
      "cell_type": "code",
      "source": [
        "from google.colab import drive\n",
        "drive.mount('/content/drive')"
      ],
      "metadata": {
        "colab": {
          "base_uri": "https://localhost:8080/"
        },
        "id": "4ESnth7HjJ8Z",
        "outputId": "eb7e06a3-1e51-4457-d749-e084e56ac27d"
      },
      "execution_count": null,
      "outputs": [
        {
          "output_type": "stream",
          "name": "stdout",
          "text": [
            "Mounted at /content/drive\n"
          ]
        }
      ]
    },
    {
      "cell_type": "code",
      "source": [
        "%cd /content/drive/MyDrive/whisper_finetuning"
      ],
      "metadata": {
        "colab": {
          "base_uri": "https://localhost:8080/"
        },
        "id": "zM0ts2NijcV6",
        "outputId": "d7920f28-5964-4ddf-b527-f90736c14045"
      },
      "execution_count": null,
      "outputs": [
        {
          "output_type": "stream",
          "name": "stdout",
          "text": [
            "/content/drive/MyDrive/whisper_finetuning\n"
          ]
        }
      ]
    },
    {
      "cell_type": "code",
      "source": [
        "!ls /content/drive/MyDrive/whisper_finetuning/*.parquet"
      ],
      "metadata": {
        "id": "8aQmMB4r6WPM"
      },
      "execution_count": null,
      "outputs": []
    },
    {
      "cell_type": "markdown",
      "source": [
        "# Installing libraries"
      ],
      "metadata": {
        "id": "kwAPKPRi6IyX"
      }
    },
    {
      "cell_type": "code",
      "source": [
        "!pip install -q datasets"
      ],
      "metadata": {
        "id": "C4nFGiF9-PcH"
      },
      "execution_count": null,
      "outputs": []
    },
    {
      "cell_type": "code",
      "source": [
        "!pip install -q evaluate"
      ],
      "metadata": {
        "colab": {
          "base_uri": "https://localhost:8080/"
        },
        "collapsed": true,
        "id": "R5PRe4ie-8PE",
        "outputId": "9ad84922-8e7e-412c-b497-e06a8c31b363"
      },
      "execution_count": null,
      "outputs": [
        {
          "output_type": "stream",
          "name": "stdout",
          "text": [
            "\u001b[?25l   \u001b[90m━━━━━━━━━━━━━━━━━━━━━━━━━━━━━━━━━━━━━━━━\u001b[0m \u001b[32m0.0/84.1 kB\u001b[0m \u001b[31m?\u001b[0m eta \u001b[36m-:--:--\u001b[0m\r\u001b[2K   \u001b[90m━━━━━━━━━━━━━━━━━━━━━━━━━━━━━━━━━━━━━━━━\u001b[0m \u001b[32m84.1/84.1 kB\u001b[0m \u001b[31m2.5 MB/s\u001b[0m eta \u001b[36m0:00:00\u001b[0m\n",
            "\u001b[?25h"
          ]
        }
      ]
    },
    {
      "cell_type": "code",
      "source": [
        "!pip install -q jiwer"
      ],
      "metadata": {
        "colab": {
          "base_uri": "https://localhost:8080/"
        },
        "id": "Nj5CD2arAW0g",
        "outputId": "83cce2b2-810b-4e02-d119-00cfe46f7c9f"
      },
      "execution_count": null,
      "outputs": [
        {
          "output_type": "stream",
          "name": "stdout",
          "text": [
            "\u001b[?25l   \u001b[90m━━━━━━━━━━━━━━━━━━━━━━━━━━━━━━━━━━━━━━━━\u001b[0m \u001b[32m0.0/3.1 MB\u001b[0m \u001b[31m?\u001b[0m eta \u001b[36m-:--:--\u001b[0m\r\u001b[2K   \u001b[91m━━━━━━━\u001b[0m\u001b[91m╸\u001b[0m\u001b[90m━━━━━━━━━━━━━━━━━━━━━━━━━━━━━━━━\u001b[0m \u001b[32m0.6/3.1 MB\u001b[0m \u001b[31m18.3 MB/s\u001b[0m eta \u001b[36m0:00:01\u001b[0m\r\u001b[2K   \u001b[91m━━━━━━━━━━━━━━━━━━━━━━━━━━━━━━━━━━━━━━━\u001b[0m\u001b[91m╸\u001b[0m \u001b[32m3.1/3.1 MB\u001b[0m \u001b[31m50.8 MB/s\u001b[0m eta \u001b[36m0:00:01\u001b[0m\r\u001b[2K   \u001b[90m━━━━━━━━━━━━━━━━━━━━━━━━━━━━━━━━━━━━━━━━\u001b[0m \u001b[32m3.1/3.1 MB\u001b[0m \u001b[31m37.6 MB/s\u001b[0m eta \u001b[36m0:00:00\u001b[0m\n",
            "\u001b[?25h"
          ]
        }
      ]
    },
    {
      "cell_type": "markdown",
      "source": [
        "# Main code"
      ],
      "metadata": {
        "id": "9GLO2gb3570M"
      }
    },
    {
      "cell_type": "code",
      "source": [
        "# ===============================\n",
        "# Step 1: Install dependencies\n",
        "# ===============================\n",
        "# Done in above part of code\n",
        "\n",
        "# ===============================\n",
        "# Step 2: Import libraries\n",
        "# ===============================\n",
        "from datasets import load_dataset, Dataset, Audio\n",
        "import pandas as pd\n",
        "import matplotlib.pyplot as plt\n",
        "import numpy as np\n",
        "from IPython.display import Audio as IPyAudio, clear_output\n",
        "from scipy.signal import resample\n",
        "import torch\n",
        "from tqdm import tqdm\n",
        "from torch.utils.data import DataLoader\n",
        "from transformers import (\n",
        "    WhisperTokenizer,\n",
        "    WhisperFeatureExtractor,\n",
        "    WhisperForConditionalGeneration\n",
        ")\n",
        "import evaluate\n",
        "\n",
        "# ===============================\n",
        "# Step 3: Define helper functions\n",
        "# ===============================\n",
        "\n",
        "wer  = evaluate.load('wer')\n",
        "\n",
        "def down_sample_audio(audio_original, original_sample_rate):\n",
        "    target_sample_rate = 16000\n",
        "    num_samples = int(len(audio_original) * target_sample_rate / original_sample_rate)\n",
        "    downsampled_audio = resample(audio_original, num_samples)\n",
        "    return downsampled_audio\n",
        "\n",
        "# ===============================\n",
        "# Step 4: Load Whisper components\n",
        "# ===============================\n",
        "tokenizer = WhisperTokenizer.from_pretrained(\"openai/whisper-small\", language='english', task='transcribe')\n",
        "feature_extractor = WhisperFeatureExtractor.from_pretrained(\"openai/whisper-small\", language='english', task='transcribe')\n",
        "model = WhisperForConditionalGeneration.from_pretrained(\"openai/whisper-small\").to('cuda')\n",
        "\n",
        "# ===============================\n",
        "# Step 5: Load and prepare dataset\n",
        "# ===============================\n",
        "# Load Parquet file\n",
        "df = pd.read_parquet(\"/content/drive/MyDrive/whisper_finetuning/train_0000.parquet\")\n",
        "\n",
        "# Convert to Hugging Face Dataset and cast 'audio' to decoded format\n",
        "atco_asr_data = Dataset.from_pandas(df)\n",
        "atco_asr_data = atco_asr_data.cast_column(\"audio\", Audio(sampling_rate=16000))\n",
        "\n",
        "# Optional: Check token lengths for text\n",
        "list_of_transcription_lengths = []\n",
        "for sample in atco_asr_data:\n",
        "    text = sample['text']\n",
        "    tokenized_text = tokenizer(text).input_ids\n",
        "    list_of_transcription_lengths.append(len(tokenized_text))\n",
        "plt.hist(list_of_transcription_lengths)\n",
        "plt.show()\n",
        "\n",
        "# ===============================\n",
        "# Step 6: Dataset wrapper class\n",
        "# ===============================\n",
        "class whisper_training_dataset(torch.utils.data.Dataset):\n",
        "    def __init__(self, dataset, max_len):\n",
        "        self.dataset = dataset\n",
        "        self.max_len = max_len\n",
        "        self.bos_token = model.config.decoder_start_token_id\n",
        "\n",
        "    def __len__(self):\n",
        "        return len(self.dataset)\n",
        "\n",
        "    def __getitem__(self, idx):\n",
        "        item = self.dataset[idx]\n",
        "        audio_data = down_sample_audio(item['audio'][\"array\"], item['audio'][\"sampling_rate\"])\n",
        "        input_features = feature_extractor(audio_data, sampling_rate=16000, return_tensors='pt').input_features[0]\n",
        "        transcription = item[\"text\"]\n",
        "        labels = tokenizer(transcription, padding=\"max_length\", max_length=self.max_len, truncation=True, return_tensors=\"pt\")\n",
        "        labels = labels[\"input_ids\"].masked_fill(labels['attention_mask'].ne(1), -100)\n",
        "        labels = labels[0][1:]  # remove <s>\n",
        "        return {\"input_features\": input_features, \"labels\": labels}\n",
        "\n",
        "# ===============================\n",
        "# Step 7: Create dataloader\n",
        "# ===============================\n",
        "dataset = whisper_training_dataset(dataset=atco_asr_data, max_len=60)\n",
        "\n",
        "train_dataloader = DataLoader(\n",
        "    dataset,\n",
        "    batch_size=8,\n",
        "    shuffle=True,\n",
        ")\n",
        "\n",
        "# ===============================\n",
        "# Step 8: Evaluation function\n",
        "# ===============================\n",
        "def evaluation(model):\n",
        "    df_val = pd.read_parquet(\"/content/drive/MyDrive/whisper_finetuning/valid_0000.parquet\")\n",
        "    atco_asr_data_val = Dataset.from_pandas(df_val)\n",
        "    atco_asr_data_val = atco_asr_data_val.cast_column(\"audio\", Audio(sampling_rate=16000))\n",
        "\n",
        "    model.eval()\n",
        "    predictions, references = [], []\n",
        "\n",
        "    for sample in tqdm(atco_asr_data_val, total=len(atco_asr_data_val)):\n",
        "        audio = down_sample_audio(sample['audio']['array'], sample['audio']['sampling_rate'])\n",
        "        input_features = feature_extractor(raw_speech=audio, sampling_rate=16000, return_tensors='pt').input_features\n",
        "        with torch.no_grad():\n",
        "            output = model.generate(input_features.to('cuda'), language='english', task='transcribe')\n",
        "        text_pred = tokenizer.batch_decode(output, skip_special_tokens=True)[0]\n",
        "        predictions.append(text_pred)\n",
        "        references.append(sample['text'])\n",
        "\n",
        "    return wer.compute(predictions=predictions, references=references) * 100\n",
        "\n",
        "# ===============================\n",
        "# Step 9: Training loop\n",
        "# ===============================\n",
        "device = 'cuda'\n",
        "optimizer = torch.optim.AdamW(model.parameters(), lr=1e-5)\n",
        "max_epochs = 5\n",
        "\n",
        "running_wer = []\n",
        "running_train_loss = []\n",
        "\n",
        "for epoch in tqdm(range(max_epochs)):\n",
        "    model.train()\n",
        "    epoch_loss = 0.0\n",
        "    num_batches = 0\n",
        "\n",
        "    for batch in train_dataloader:\n",
        "        input_features, labels = batch[\"input_features\"].to(device), batch[\"labels\"].to(device)\n",
        "        outputs = model(input_features, labels=labels)\n",
        "        loss = outputs.loss\n",
        "\n",
        "        loss.backward()\n",
        "        optimizer.step()\n",
        "        optimizer.zero_grad()\n",
        "\n",
        "        epoch_loss += loss.item()\n",
        "        num_batches += 1\n",
        "\n",
        "    avg_loss = epoch_loss / num_batches\n",
        "    print(f\"Traing loss {avg_loss} for epoch {epoch}\")\n",
        "    running_train_loss.append(avg_loss)\n",
        "\n",
        "    # Validation after each epoch\n",
        "    wer_score = evaluation(model)\n",
        "    print(f\"Validation loss {wer_score} for epoch {epoch}\")\n",
        "    running_wer.append(wer_score)\n",
        "\n",
        "    # Plot both metrics\n",
        "    clear_output(wait=True)\n",
        "\n",
        "plt.figure(figsize=(10, 5))\n",
        "plt.plot(running_train_loss, label='Training Loss')\n",
        "plt.plot(running_wer, label='Validation WER (%)')\n",
        "plt.xlabel('Epochs')\n",
        "plt.ylabel('Loss / WER')\n",
        "plt.title('Training Loss & Validation WER')\n",
        "plt.legend()\n",
        "plt.grid(True)\n",
        "plt.show()\n",
        "\n"
      ],
      "metadata": {
        "colab": {
          "base_uri": "https://localhost:8080/",
          "height": 504
        },
        "id": "mrezL95dFfGj",
        "outputId": "2cdec86f-cac1-4aae-9ae1-78849317aba8"
      },
      "execution_count": null,
      "outputs": [
        {
          "output_type": "stream",
          "name": "stderr",
          "text": [
            "100%|██████████| 5/5 [38:35<00:00, 463.06s/it]\n"
          ]
        },
        {
          "output_type": "display_data",
          "data": {
            "text/plain": [
              "<Figure size 1000x500 with 1 Axes>"
            ],
            "image/png": "[encoded data removed]"
          },
          "metadata": {}
        }
      ]
    },
    {
      "cell_type": "code",
      "source": [
        "# ===============================\n",
        "# Save fine-tuned model\n",
        "# ===============================\n",
        "\n",
        "output_dir = \"/content/drive/MyDrive/whisper_finetuning/whisper-finetuned-model\"\n",
        "\n",
        "model.save_pretrained(output_dir)\n",
        "tokenizer.save_pretrained(output_dir)\n",
        "feature_extractor.save_pretrained(output_dir)\n",
        "\n",
        "print(f\"Model and components saved to: {output_dir}\")\n"
      ],
      "metadata": {
        "id": "2_SLrPH6Gjqi"
      },
      "execution_count": null,
      "outputs": []
    },
    {
      "cell_type": "markdown",
      "source": [
        "# Finetuned model Testing"
      ],
      "metadata": {
        "id": "vcDoxyOx5zPi"
      }
    },
    {
      "cell_type": "code",
      "source": [
        "from transformers import WhisperForConditionalGeneration, WhisperTokenizer, WhisperFeatureExtractor\n",
        "\n",
        "out_dir_path = '/content/drive/MyDrive/whisper_finetuning/whisper-finetuned-model'\n",
        "model_finetuned = WhisperForConditionalGeneration.from_pretrained(out_dir_path).to('cuda')\n",
        "tokenizer_finetuned = WhisperTokenizer.from_pretrained(out_dir_path)\n",
        "feature_extractor_finetuned = WhisperFeatureExtractor.from_pretrained(out_dir_path)"
      ],
      "metadata": {
        "id": "iLpW_fR7Gzhj"
      },
      "execution_count": null,
      "outputs": []
    },
    {
      "cell_type": "code",
      "source": [
        "from datasets import Dataset, Audio\n",
        "import pandas as pd\n",
        "import torch\n",
        "\n",
        "# Load validation parquet file using pandas\n",
        "df_val = pd.read_parquet(\"/content/drive/MyDrive/whisper_finetuning/valid_0000.parquet\")\n",
        "\n",
        "# Convert to Hugging Face Dataset and decode audio column\n",
        "atco_asr_data = Dataset.from_pandas(df_val)\n",
        "atco_asr_data = atco_asr_data.cast_column(\"audio\", Audio(sampling_rate=16000))\n",
        "\n",
        "# Set model to evaluation mode\n",
        "model.eval()\n",
        "\n",
        "# Predict first 5 samples\n",
        "for idx in range(5):\n",
        "    sample = atco_asr_data[idx]\n",
        "    target = sample['text']\n",
        "    audio_original = sample['audio']['array']\n",
        "    sample_rate = sample['audio']['sampling_rate']\n",
        "\n",
        "    # Downsample and extract features\n",
        "    audio_ds = down_sample_audio(audio_original, sample_rate)\n",
        "    input_feature = feature_extractor_finetuned(\n",
        "        raw_speech=audio_ds,\n",
        "        sampling_rate=16000,\n",
        "        return_tensors='pt'\n",
        "    ).input_features\n",
        "\n",
        "    # Generate prediction\n",
        "    with torch.no_grad():\n",
        "        output = model_finetuned.generate(input_feature.to('cuda'), language='english', task='transcribe')\n",
        "\n",
        "    text_pred = tokenizer_finetuned.batch_decode(output, skip_special_tokens=True)[0]\n",
        "\n",
        "    # Display result\n",
        "    print(f'------- Sample {idx} -------')\n",
        "    print(f'True : {target}')\n",
        "    print(f'Pred : {text_pred}')\n",
        "    print('\\n')\n"
      ],
      "metadata": {
        "id": "ID3TGfXiGkm4",
        "colab": {
          "base_uri": "https://localhost:8080/"
        },
        "outputId": "c0f9b92c-d4bd-4807-cb5f-71582d7bab57"
      },
      "execution_count": null,
      "outputs": [
        {
          "output_type": "stream",
          "name": "stderr",
          "text": [
            "`generation_config` default values have been modified to match model-specific defaults: {'suppress_tokens': [1, 2, 7, 8, 9, 10, 14, 25, 26, 27, 28, 29, 31, 58, 59, 60, 61, 62, 63, 90, 91, 92, 93, 359, 503, 522, 542, 873, 893, 902, 918, 922, 931, 1350, 1853, 1982, 2460, 2627, 3246, 3253, 3268, 3536, 3846, 3961, 4183, 4667, 6585, 6647, 7273, 9061, 9383, 10428, 10929, 11938, 12033, 12331, 12562, 13793, 14157, 14635, 15265, 15618, 16553, 16604, 18362, 18956, 20075, 21675, 22520, 26130, 26161, 26435, 28279, 29464, 31650, 32302, 32470, 36865, 42863, 47425, 49870, 50254, 50258, 50360, 50361, 50362], 'begin_suppress_tokens': [220, 50257]}. If this is not desired, please set these values explicitly.\n",
            "A custom logits processor of type <class 'transformers.generation.logits_process.SuppressTokensLogitsProcessor'> has been passed to `.generate()`, but it was also created in `.generate()`, given its parameterization. The custom <class 'transformers.generation.logits_process.SuppressTokensLogitsProcessor'> will take precedence. Please check the docstring of <class 'transformers.generation.logits_process.SuppressTokensLogitsProcessor'> to see related `.generate()` flags.\n",
            "A custom logits processor of type <class 'transformers.generation.logits_process.SuppressTokensAtBeginLogitsProcessor'> has been passed to `.generate()`, but it was also created in `.generate()`, given its parameterization. The custom <class 'transformers.generation.logits_process.SuppressTokensAtBeginLogitsProcessor'> will take precedence. Please check the docstring of <class 'transformers.generation.logits_process.SuppressTokensAtBeginLogitsProcessor'> to see related `.generate()` flags.\n"
          ]
        },
        {
          "output_type": "stream",
          "name": "stdout",
          "text": [
            "------- Sample 0 -------\n",
            "True : Eurowings Seven Alfa Bravo turn right heading two one zero cleared ILS approach runway two four report established heading(-ding)  two one zero cleared for the ILS two four report established Eurowings Seven Alpha Bravo \n",
            "Pred : Eurotrans Seven Alpha Bravo turn right heading two one zero cleared ILS approach runway two four report established heading two one zero cleared for the ILS two four report established Eurotrans Seven Alpha Bravo \n",
            "\n",
            "\n",
            "------- Sample 1 -------\n",
            "True : Skytravel Two Eight Two Seven and there is closed echo airspace below flight level one hundred so  if you wish to avoid class echo airspace next descend in two zero miles \n",
            "Pred : Skytrail Two Eight Two Seven and there is class echo space below flight level one hundred so if you wish to avoid class echo space next descend in two zero miles \n",
            "\n",
            "\n",
            "------- Sample 2 -------\n",
            "True : Oscar Kilo Papa Romeo Mike turn right heading zero six zero zero six zero right turn Oscar Papa Romeo Mike \n",
            "Pred : Oscar Kilo Papa Romeo Mike turn right heading zero six zero zero six zero right turn Oscar Papa Romeo Mike \n",
            "\n",
            "\n",
            "------- Sample 3 -------\n",
            "True : Radar  dobre odpoledne  Sky Travel Four Three Two Papa passing nineteen hundred climbing to five thousand Sky Travel Four Three Two Papa  dobre odpoledne  Praha Radar identified climb flight level one six zero climb to flight level one six zero Sky Travel Four Three Two Papa \n",
            "Pred : Air Bravo Four Three Two Papa passing one thousand feet Air Bravo Four Three Two Papa   November  November �Hotel radar identified climb flight level one six zero climb flight level one six zero Air Bravo Four Three Two Papa \n",
            "\n",
            "\n",
            "------- Sample 4 -------\n",
            "True : one one eight decimal one   Six Five Zero that's it bye bye děkujem na slyšenou na slyšenou \n",
            "Pred : One One Eight decimal  six five zero let's leave bye bye  \n",
            "\n",
            "\n"
          ]
        }
      ]
    },
    {
      "cell_type": "markdown",
      "source": [
        "# Original model Testing"
      ],
      "metadata": {
        "id": "f5JtmfwHn2uf"
      }
    },
    {
      "cell_type": "code",
      "source": [
        "from datasets import Dataset, Audio\n",
        "import pandas as pd\n",
        "import torch\n",
        "from transformers import WhisperForConditionalGeneration, WhisperTokenizer, WhisperFeatureExtractor\n",
        "\n",
        "tokenizer = WhisperTokenizer.from_pretrained(\"openai/whisper-small\", language='english', task='transcribe')\n",
        "feature_extractor = WhisperFeatureExtractor.from_pretrained(\"openai/whisper-small\", language='english', task='transcribe')\n",
        "model = WhisperForConditionalGeneration.from_pretrained(\"openai/whisper-small\").to('cuda')\n",
        "\n",
        "# Load validation parquet file using pandas\n",
        "df_val = pd.read_parquet(\"/content/drive/MyDrive/whisper_finetuning/valid_0000.parquet\")\n",
        "\n",
        "# Convert to Hugging Face Dataset and decode audio column\n",
        "atco_asr_data = Dataset.from_pandas(df_val)\n",
        "atco_asr_data = atco_asr_data.cast_column(\"audio\", Audio(sampling_rate=16000))\n",
        "\n",
        "# Set model to evaluation mode\n",
        "model.eval()\n",
        "\n",
        "# Predict first 5 samples\n",
        "for idx in range(5):\n",
        "    sample = atco_asr_data[idx]\n",
        "    target = sample['text']\n",
        "    audio_original = sample['audio']['array']\n",
        "    sample_rate = sample['audio']['sampling_rate']\n",
        "\n",
        "    # Downsample and extract features\n",
        "    audio_ds = down_sample_audio(audio_original, sample_rate)\n",
        "    input_feature = feature_extractor(\n",
        "        raw_speech=audio_ds,\n",
        "        sampling_rate=16000,\n",
        "        return_tensors='pt'\n",
        "    ).input_features\n",
        "\n",
        "    # Generate prediction\n",
        "    with torch.no_grad():\n",
        "        output = model.generate(input_feature.to('cuda'), language='english', task='transcribe')\n",
        "\n",
        "    text_pred = tokenizer.batch_decode(output, skip_special_tokens=True)[0]\n",
        "\n",
        "    # Display result\n",
        "    print(f'------- Sample {idx} -------')\n",
        "    print(f'True : {target}')\n",
        "    print(f'Pred : {text_pred}')\n",
        "    print('\\n')\n"
      ],
      "metadata": {
        "colab": {
          "base_uri": "https://localhost:8080/"
        },
        "id": "_7BRJuWfn7ru",
        "outputId": "44a65e21-3f6e-467a-bf48-1bc367811ae4"
      },
      "execution_count": null,
      "outputs": [
        {
          "output_type": "stream",
          "name": "stdout",
          "text": [
            "------- Sample 0 -------\n",
            "True : Eurowings Seven Alfa Bravo turn right heading two one zero cleared ILS approach runway two four report established heading(-ding)  two one zero cleared for the ILS two four report established Eurowings Seven Alpha Bravo \n",
            "Pred :  You are having 7A, turn right heading 210, clear dial as approach runway 24, report established. Same, 210 cleared for the ANS24, report established, you are having 7A.\n",
            "\n",
            "\n",
            "------- Sample 1 -------\n",
            "True : Skytravel Two Eight Two Seven and there is closed echo airspace below flight level one hundred so  if you wish to avoid class echo airspace next descend in two zero miles \n",
            "Pred :  Skydrought 227 and there is class acro space below fl 100 so if you wish to avoid class acro space next descent in a 2-0 mile.\n",
            "\n",
            "\n",
            "------- Sample 2 -------\n",
            "True : Oscar Kilo Papa Romeo Mike turn right heading zero six zero zero six zero right turn Oscar Papa Romeo Mike \n",
            "Pred :  Oscar kill Papa, I'm on my mic, turn right heading 060. 060, right on Oscar, Papa, I'm on my mic.\n",
            "\n",
            "\n",
            "------- Sample 3 -------\n",
            "True : Radar  dobre odpoledne  Sky Travel Four Three Two Papa passing nineteen hundred climbing to five thousand Sky Travel Four Three Two Papa  dobre odpoledne  Praha Radar identified climb flight level one six zero climb to flight level one six zero Sky Travel Four Three Two Papa \n",
            "Pred :  AirDVS 432, PAPAPAP, think 1900, copy, to 5000 AirDVS 432, PAPAP, the ground for the airport, never had radar identified, ground flight, L160 AirDVS 432, PAPAP\n",
            "\n",
            "\n",
            "------- Sample 4 -------\n",
            "True : one one eight decimal one   Six Five Zero that's it bye bye děkujem na slyšenou na slyšenou \n",
            "Pred :  118,000, 650,000, let's hit the line.\n",
            "\n",
            "\n"
          ]
        }
      ]
    },
    {
      "cell_type": "markdown",
      "source": [
        "# UI"
      ],
      "metadata": {
        "id": "rMaFsdF4HdGS"
      }
    },
    {
      "cell_type": "code",
      "source": [
        "!pip install -q librosa"
      ],
      "metadata": {
        "id": "QPPDAsK0HeTS"
      },
      "execution_count": null,
      "outputs": []
    },
    {
      "cell_type": "code",
      "source": [
        "import gradio as gr\n",
        "import torch\n",
        "from transformers import WhisperForConditionalGeneration, WhisperTokenizer, WhisperFeatureExtractor\n",
        "from scipy.signal import resample\n",
        "import numpy as np\n",
        "import librosa\n",
        "\n",
        "# Load fine-tuned model\n",
        "finetuned_dir = '/content/drive/MyDrive/whisper_finetuning/whisper-finetuned-model'\n",
        "model_finetuned = WhisperForConditionalGeneration.from_pretrained(finetuned_dir).to('cuda')\n",
        "tokenizer_finetuned = WhisperTokenizer.from_pretrained(finetuned_dir)\n",
        "feature_extractor_finetuned = WhisperFeatureExtractor.from_pretrained(finetuned_dir)\n",
        "\n",
        "# Load original (base) model\n",
        "model_base = WhisperForConditionalGeneration.from_pretrained(\"openai/whisper-small\").to('cuda')\n",
        "tokenizer_base = WhisperTokenizer.from_pretrained(\"openai/whisper-small\", language='english', task='transcribe')\n",
        "feature_extractor_base = WhisperFeatureExtractor.from_pretrained(\"openai/whisper-small\", language='english', task='transcribe')\n",
        "\n",
        "# Downsampling function\n",
        "def down_sample_audio(audio_array, original_sr, target_sr=16000):\n",
        "    num_samples = int(len(audio_array) * target_sr / original_sr)\n",
        "    return resample(audio_array, num_samples)\n",
        "\n",
        "# Transcription comparison function\n",
        "def transcribe_audio_compare(audio_file):\n",
        "    try:\n",
        "        # Load audio using librosa\n",
        "        audio_array, sr = librosa.load(audio_file, sr=None)\n",
        "        audio_array = down_sample_audio(audio_array, sr)\n",
        "\n",
        "        # Preprocess for both models\n",
        "        input_features_finetuned = feature_extractor_finetuned(\n",
        "            audio_array, sampling_rate=16000, return_tensors=\"pt\"\n",
        "        ).input_features.to(\"cuda\")\n",
        "\n",
        "        input_features_base = feature_extractor_base(\n",
        "            audio_array, sampling_rate=16000, return_tensors=\"pt\"\n",
        "        ).input_features.to(\"cuda\")\n",
        "\n",
        "        # Predict with fine-tuned model\n",
        "        with torch.no_grad():\n",
        "            pred_finetuned = model_finetuned.generate(input_features_finetuned, language=\"english\", task=\"transcribe\")\n",
        "        text_finetuned = tokenizer_finetuned.batch_decode(pred_finetuned, skip_special_tokens=True)[0]\n",
        "\n",
        "        # Predict with base model\n",
        "        with torch.no_grad():\n",
        "            pred_base = model_base.generate(input_features_base, language=\"english\", task=\"transcribe\")\n",
        "        text_base = tokenizer_base.batch_decode(pred_base, skip_special_tokens=True)[0]\n",
        "\n",
        "        return text_finetuned, text_base\n",
        "\n",
        "    except Exception as e:\n",
        "        return f\"Error: {str(e)}\", f\"Error: {str(e)}\"\n",
        "\n",
        "\n",
        "# Gradio UI\n",
        "iface = gr.Interface(\n",
        "    fn=transcribe_audio_compare,\n",
        "    inputs=gr.Audio(type=\"filepath\", label=\"Upload Audio (.wav/.mp3)\"),\n",
        "    outputs=[\n",
        "        gr.Textbox(label=\"Fine-Tuned Whisper Transcription\"),\n",
        "        gr.Textbox(label=\"Original Whisper Transcription\")\n",
        "    ],\n",
        "    title=\"Whisper ASR Comparison\",\n",
        "    description=\"Upload audio and compare outputs from your fine-tuned Whisper model and the original pre-trained model.\",\n",
        ")\n",
        "\n",
        "iface.launch()\n"
      ],
      "metadata": {
        "colab": {
          "base_uri": "https://localhost:8080/",
          "height": 645
        },
        "id": "gSylakUm3yZN",
        "outputId": "4754df7f-ea05-4532-da01-7108f0e21d10"
      },
      "execution_count": null,
      "outputs": [
        {
          "output_type": "stream",
          "name": "stdout",
          "text": [
            "It looks like you are running Gradio on a hosted Jupyter notebook, which requires `share=True`. Automatically setting `share=True` (you can turn this off by setting `share=False` in `launch()` explicitly).\n",
            "\n",
            "Colab notebook detected. To show errors in colab notebook, set debug=True in launch()\n",
            "* Running on public URL: https://cf66f2178353aaa07e.gradio.live\n",
            "\n",
            "This share link expires in 1 week. For free permanent hosting and GPU upgrades, run `gradio deploy` from the terminal in the working directory to deploy to Hugging Face Spaces (https://huggingface.co/spaces)\n"
          ]
        },
        {
          "output_type": "display_data",
          "data": {
            "text/plain": [
              "<IPython.core.display.HTML object>"
            ],
            "text/html": [
              "<div><iframe src=\"https://cf66f2178353aaa07e.gradio.live\" width=\"100%\" height=\"500\" allow=\"autoplay; camera; microphone; clipboard-read; clipboard-write;\" frameborder=\"0\" allowfullscreen></iframe></div>"
            ]
          },
          "metadata": {}
        },
        {
          "output_type": "execute_result",
          "data": {
            "text/plain": []
          },
          "metadata": {},
          "execution_count": 25
        }
      ]
    },
    {
      "cell_type": "markdown",
      "source": [
        "# To get sample auido fro validation dataset"
      ],
      "metadata": {
        "id": "pxHT8f0L5f1q"
      }
    },
    {
      "cell_type": "code",
      "source": [
        "import soundfile as sf"
      ],
      "metadata": {
        "id": "yt0GKhYi1w6D"
      },
      "execution_count": null,
      "outputs": []
    },
    {
      "cell_type": "code",
      "source": [
        "# Load the dataset\n",
        "df_v = pd.read_parquet(\"/content/drive/MyDrive/whisper_finetuning/valid_0000.parquet\")\n",
        "atco_asr_data_v = Dataset.from_pandas(df_v)\n",
        "atco_asr_data_v = atco_asr_data_v.cast_column(\"audio\", Audio(sampling_rate=16000))\n",
        "\n",
        "# Choose the sample to save (e.g., sample 0)\n",
        "sample = atco_asr_data_v[0]\n",
        "audio_array = sample[\"audio\"][\"array\"]\n",
        "sample_rate = sample[\"audio\"][\"sampling_rate\"]\n",
        "\n",
        "# Save the audio to WAV format\n",
        "sf.write(\"sample_0.wav\", audio_array, samplerate=sample_rate)\n",
        "\n",
        "print(\"Saved sample_0.wav for UI testing.\")"
      ],
      "metadata": {
        "colab": {
          "base_uri": "https://localhost:8080/"
        },
        "id": "rkeaD3Gt1vnb",
        "outputId": "95044f11-cc52-4086-d5aa-8b092e03e4e9"
      },
      "execution_count": null,
      "outputs": [
        {
          "output_type": "stream",
          "name": "stdout",
          "text": [
            "Saved sample_0.wav for UI testing.\n"
          ]
        }
      ]
    },
    {
      "cell_type": "code",
      "source": [
        "sample['text']"
      ],
      "metadata": {
        "colab": {
          "base_uri": "https://localhost:8080/",
          "height": 53
        },
        "id": "cd52PeCv2NyZ",
        "outputId": "eaa56e05-10b9-476b-d109-a4ee2915c4d7"
      },
      "execution_count": null,
      "outputs": [
        {
          "output_type": "execute_result",
          "data": {
            "text/plain": [
              "'Eurowings Seven Alfa Bravo turn right heading two one zero cleared ILS approach runway two four report established heading(-ding)  two one zero cleared for the ILS two four report established Eurowings Seven Alpha Bravo '"
            ],
            "application/vnd.google.colaboratory.intrinsic+json": {
              "type": "string"
            }
          },
          "metadata": {},
          "execution_count": 19
        }
      ]
    }
  ]
}
